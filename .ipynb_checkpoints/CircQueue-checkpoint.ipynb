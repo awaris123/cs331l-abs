{
 "cells": [
  {
   "cell_type": "markdown",
   "metadata": {},
   "source": [
    "# Circular, Array-backed Queue"
   ]
  },
  {
   "cell_type": "markdown",
   "metadata": {},
   "source": [
    "## Overview\n",
    "\n",
    "For this assignment you will implement a circular, array-backed queue data structure.\n",
    "\n",
    "In the following class, which you are to complete, the backing array will be created and populated with `None`s in the `__init__` method, and the `head` and `tail` indexes set to sentinel values (you shouldn't need to modify `__init__`). Enqueueing and Dequeueing items will take place at the tail and head, with `tail` and `head` tracking the position of the most recently enqueued item and that of the next item to dequeue, respectively. To simplify testing, your implementation should make sure that when dequeuing an item its slot in the array is reset to `None`, and when the queue is emptied its `head` and `tail` attributes should be set to `-1`.\n",
    "\n",
    "Because of the fixed size backing array, the `enqueue` operation is defined to raise a `RuntimeError` when the queue is full — the same exception should be raised when `dequeue` is called on an empty queue.\n",
    "\n",
    "Finally, the `resize` method will allow the array underlying the queue to be increased in size. It is up to you how to implement this (you can either leave the elements in their current positions, though this may require \"unwrapping\" elements, or you can simply move all elements towards the front of the array). You may assume that `resize` will only be called with a value greater than the current length of the underlying array."
   ]
  },
  {
   "cell_type": "code",
   "execution_count": 78,
   "metadata": {
    "deletable": false,
    "nbgrader": {
     "checksum": "e9ed94239aac011479cc2c959dc6b8ae",
     "grade": false,
     "grade_id": "queue",
     "locked": false,
     "schema_version": 1,
     "solution": true
    }
   },
   "outputs": [],
   "source": [
    "class Queue:\n",
    "    def __init__(self, limit=10):\n",
    "        self.data = [None] * limit\n",
    "        self.head = -1\n",
    "        self.tail = -1\n",
    "\n",
    "   \n",
    "\n",
    "    def enqueue(self, val):\n",
    "        # YOUR CODE HERE\n",
    "        if self.data.count(None) == 0:\n",
    "            raise RuntimeError()\n",
    "        elif self.empty():\n",
    "            self.head = self.tail = -1\n",
    "            self.data[self.tail] = val\n",
    "        else:\n",
    "            \n",
    "            if self.tail + 1 > len(self.data) - 1 or (self.tail == -1 and self.data[0] == None):\n",
    "                shamt = self.head\n",
    "                for i in range(self.head, self.tail+1):\n",
    "                    self.data[i-shamt] = self.data[i]\n",
    "                    self.data[i] = None\n",
    "                self.tail -= shamt\n",
    "                self.head = 0\n",
    "                self.data[self.tail + 1] =  val\n",
    "                self.tail += 1\n",
    "            else:\n",
    "                print(self.tail, self.data[self.tail])\n",
    "                self.data[self.tail + 1] =  val\n",
    "                self.tail += 1\n",
    "        \n",
    "    def dequeue(self):\n",
    "        if self.empty():\n",
    "            raise RuntimeError()\n",
    "        else:\n",
    "            ret = self.data[self.head]\n",
    "            self.data[self.head] = None\n",
    "            self.head += 1\n",
    "            if self.head > len(self.data) - 1 or self.data[self.head] is None:\n",
    "                self.head = self.tail = -1\n",
    "            return ret\n",
    "        \n",
    "        \n",
    "    \n",
    "    def resize(self, newsize):\n",
    "        assert(len(self.data) < newsize)\n",
    "        # YOUR CODE HERE\n",
    "        for _ in range(newsize):\n",
    "            self.data.append(None)\n",
    "            \n",
    "    def empty(self):\n",
    "        # YOUR CODE HERE\n",
    "        return self.data[self.head] == None\n",
    "    \n",
    "    def __bool__(self):\n",
    "        return not self.empty()\n",
    "    \n",
    "    def __str__(self):\n",
    "        if not(self):\n",
    "            return ''\n",
    "        return ', '.join(str(x) for x in self)\n",
    "    \n",
    "    def __repr__(self):\n",
    "        return str(self)\n",
    "    \n",
    "    def __iter__(self):\n",
    "        # YOUR CODE HERE\n",
    "        for i in self.data:\n",
    "            yield i"
   ]
  },
  {
   "cell_type": "code",
   "execution_count": 79,
   "metadata": {
    "deletable": false,
    "editable": false,
    "nbgrader": {
     "checksum": "b782a6bc2d31f57035b6237661bdeb1c",
     "grade": true,
     "grade_id": "queue_tests_1",
     "locked": true,
     "points": 5,
     "schema_version": 1,
     "solution": false
    }
   },
   "outputs": [
    {
     "name": "stdout",
     "output_type": "stream",
     "text": [
      "1 1\n",
      "2 2\n",
      "3 3\n"
     ]
    }
   ],
   "source": [
    "# (5 points)\n",
    "\n",
    "from unittest import TestCase\n",
    "tc = TestCase()\n",
    "\n",
    "q = Queue(5)\n",
    "tc.assertEqual(q.data, [None] * 5)\n",
    "\n",
    "for i in range(5):\n",
    "    q.enqueue(i)\n",
    "    \n",
    "with tc.assertRaises(RuntimeError):\n",
    "    q.enqueue(5)\n",
    "\n",
    "for i in range(5):\n",
    "    tc.assertEqual(q.dequeue(), i)\n",
    "    \n",
    "tc.assertTrue(q.empty())"
   ]
  },
  {
   "cell_type": "code",
   "execution_count": 80,
   "metadata": {
    "deletable": false,
    "editable": false,
    "nbgrader": {
     "checksum": "b3b4c0c41ff0fb6064045bf31cfb55c7",
     "grade": true,
     "grade_id": "queue_tests_2",
     "locked": true,
     "points": 5,
     "schema_version": 1,
     "solution": false
    }
   },
   "outputs": [
    {
     "name": "stdout",
     "output_type": "stream",
     "text": [
      "1 1\n",
      "2 2\n",
      "3 3\n",
      "4 4\n",
      "5 5\n",
      "6 0\n",
      "7 1\n",
      "8 2\n",
      "5 4\n",
      "6 5\n",
      "7 6\n",
      "8 7\n"
     ]
    }
   ],
   "source": [
    "# (5 points)\n",
    "\n",
    "from unittest import TestCase\n",
    "tc = TestCase()\n",
    "\n",
    "q = Queue(10)\n",
    "\n",
    "for i in range(6):\n",
    "    q.enqueue(i)\n",
    "    \n",
    "tc.assertEqual(q.data.count(None), 4)\n",
    "\n",
    "for i in range(5):\n",
    "    q.dequeue()\n",
    "    \n",
    "tc.assertFalse(q.empty())\n",
    "tc.assertEqual(q.data.count(None), 9)\n",
    "tc.assertEqual(q.head, q.tail)\n",
    "tc.assertEqual(q.head, 5)\n",
    "\n",
    "for i in range(9):\n",
    "    q.enqueue(i)\n",
    "\n",
    "with tc.assertRaises(RuntimeError):\n",
    "    q.enqueue(10)\n",
    "\n",
    "for x, y in zip(q, [5] + list(range(9))):\n",
    "    tc.assertEqual(x, y)\n",
    "    \n",
    "tc.assertEqual(q.dequeue(), 5)\n",
    "for i in range(9):\n",
    "    tc.assertEqual(q.dequeue(), i)\n",
    "\n",
    "tc.assertTrue(q.empty())"
   ]
  },
  {
   "cell_type": "code",
   "execution_count": 81,
   "metadata": {
    "deletable": false,
    "editable": false,
    "nbgrader": {
     "checksum": "6bb54d60e1a9cb24f049c9676f6de1bd",
     "grade": true,
     "grade_id": "queue_tests_3",
     "locked": true,
     "points": 5,
     "schema_version": 1,
     "solution": false
    }
   },
   "outputs": [
    {
     "name": "stdout",
     "output_type": "stream",
     "text": [
      "1 1\n",
      "2 2\n",
      "3 3\n",
      "1 5\n",
      "2 6\n",
      "3 7\n",
      "4 8\n",
      "5 9\n",
      "6 10\n",
      "7 11\n",
      "8 12\n"
     ]
    }
   ],
   "source": [
    "# (5 points)\n",
    "\n",
    "from unittest import TestCase\n",
    "tc = TestCase()\n",
    "\n",
    "q = Queue(5)\n",
    "for i in range(5):\n",
    "    q.enqueue(i)\n",
    "for i in range(4):\n",
    "    q.dequeue()\n",
    "for i in range(5, 9):\n",
    "    q.enqueue(i)\n",
    "    \n",
    "with tc.assertRaises(RuntimeError):\n",
    "    q.enqueue(10)\n",
    "\n",
    "q.resize(10)\n",
    "\n",
    "for x, y in zip(q, range(4, 9)):\n",
    "    tc.assertEqual(x, y)\n",
    "    \n",
    "for i in range(9, 14):\n",
    "    q.enqueue(i)\n",
    "\n",
    "for i in range(4, 14):\n",
    "    tc.assertEqual(q.dequeue(), i)\n",
    "    \n",
    "tc.assertTrue(q.empty())\n",
    "tc.assertEqual(q.head, -1)"
   ]
  }
 ],
 "metadata": {
  "kernelspec": {
   "display_name": "Python 3",
   "language": "python",
   "name": "python3"
  },
  "language_info": {
   "codemirror_mode": {
    "name": "ipython",
    "version": 3
   },
   "file_extension": ".py",
   "mimetype": "text/x-python",
   "name": "python",
   "nbconvert_exporter": "python",
   "pygments_lexer": "ipython3",
   "version": "3.6.7"
  }
 },
 "nbformat": 4,
 "nbformat_minor": 1
}
